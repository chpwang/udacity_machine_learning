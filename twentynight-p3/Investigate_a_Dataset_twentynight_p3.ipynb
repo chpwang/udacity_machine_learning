{
 "cells": [
  {
   "cell_type": "code",
   "execution_count": 1,
   "metadata": {},
   "outputs": [
    {
     "data": {
      "text/html": [
       "<style>\n",
       "    table {\n",
       "        display: inline-block\n",
       "    }\n",
       "</style>"
      ],
      "text/plain": [
       "<IPython.core.display.HTML object>"
      ]
     },
     "metadata": {},
     "output_type": "display_data"
    }
   ],
   "source": [
    "%%html\n",
    "<style>\n",
    "    table {\n",
    "        display: inline-block\n",
    "    }\n",
    "</style>"
   ]
  },
  {
   "cell_type": "markdown",
   "metadata": {},
   "source": [
    "\n",
    "# 项目：调查 TMDB 电影数据集\n",
    "\n",
    "## 目录\n",
    "<ul>\n",
    "<li><a href=\"#intro\">简介</a></li>\n",
    "<li><a href=\"#wrangling\">数据整理</a></li>\n",
    "<li><a href=\"#eda\">探索性数据分析</a></li>\n",
    "<li><a href=\"#conclusions\">结论</a></li>\n",
    "</ul>"
   ]
  },
  {
   "cell_type": "markdown",
   "metadata": {},
   "source": [
    "<a id='intro'></a>\n",
    "## 简介\n",
    "\n",
    "该电影数据由 [kaggle](https://www.kaggle.com/tmdb/tmdb-movie-metadata) 提供。\n",
    "\n",
    "###  TMDB 电影数据的属性说明：\n",
    "\n",
    "\n",
    "| 属性        | 描述           |\n",
    "| :---------  | :------------ |\n",
    "| id          |   序号 |\n",
    "| imdb_id      | IMDB 序号      |\n",
    "| popularity | 欢迎度    |\n",
    "| budget | 影片预算    |\n",
    "| revenue | 票房收入      |\n",
    "| original_title | 原始片名（未翻译过的）|\n",
    "| cast | 主要演员表  |\n",
    "| homepage | 影片主页      |\n",
    "| director | 导演      |\n",
    "| tagline | 标语   |\n",
    "| keywords | 影片关键词  |\n",
    "| overview | 剧情简介  |\n",
    "| runtime | 影片时长（分钟）  |\n",
    "| genres | 影片类型  |\n",
    "| production_companies | 影片发行公司  |\n",
    "| vote_count | 评分总人数    |\n",
    "| vote_average | 平均得分（满分 10） |\n",
    "| release_year | 发行年代      |\n",
    "| budget_adj | 影片预算（调整）  |\n",
    "| revenue_adj | 票房收入（调整） |\n",
    "\n",
    "### 针对该 TMDB 电影数据集希望探索的问题：\n",
    "<ol>\n",
    "<li><a href=\"#pop_of_each_year\">总体上看，最受欢迎的电影类别是哪些？</a></li>\n",
    "<li><a href=\"#characteristics_of_high_revenue_movies\">票房高的电影有哪些特点？</a></li>\n",
    "</ol>\n"
   ]
  },
  {
   "cell_type": "code",
   "execution_count": 2,
   "metadata": {},
   "outputs": [],
   "source": [
    "import pandas as pd\n",
    "import matplotlib.pyplot as plt\n",
    "import seaborn as sns\n",
    "% matplotlib inline"
   ]
  },
  {
   "cell_type": "markdown",
   "metadata": {},
   "source": [
    "<a id='wrangling'></a>\n",
    "## 数据整理\n",
    "\n",
    "\n",
    "### 常规属性"
   ]
  },
  {
   "cell_type": "code",
   "execution_count": 3,
   "metadata": {},
   "outputs": [
    {
     "name": "stdout",
     "output_type": "stream",
     "text": [
      "<class 'pandas.core.frame.DataFrame'>\n",
      "RangeIndex: 10866 entries, 0 to 10865\n",
      "Data columns (total 21 columns):\n",
      "id                      10866 non-null int64\n",
      "imdb_id                 10856 non-null object\n",
      "popularity              10866 non-null float64\n",
      "budget                  10866 non-null int64\n",
      "revenue                 10866 non-null int64\n",
      "original_title          10866 non-null object\n",
      "cast                    10790 non-null object\n",
      "homepage                2936 non-null object\n",
      "director                10822 non-null object\n",
      "tagline                 8042 non-null object\n",
      "keywords                9373 non-null object\n",
      "overview                10862 non-null object\n",
      "runtime                 10866 non-null int64\n",
      "genres                  10843 non-null object\n",
      "production_companies    9836 non-null object\n",
      "release_date            10866 non-null object\n",
      "vote_count              10866 non-null int64\n",
      "vote_average            10866 non-null float64\n",
      "release_year            10866 non-null int64\n",
      "budget_adj              10866 non-null float64\n",
      "revenue_adj             10866 non-null float64\n",
      "dtypes: float64(4), int64(6), object(11)\n",
      "memory usage: 1.7+ MB\n"
     ]
    }
   ],
   "source": [
    "df = pd.read_csv(\"tmdb-movies.csv\")\n",
    "df.info()"
   ]
  },
  {
   "cell_type": "code",
   "execution_count": 4,
   "metadata": {},
   "outputs": [
    {
     "data": {
      "text/html": [
       "<div>\n",
       "<style scoped>\n",
       "    .dataframe tbody tr th:only-of-type {\n",
       "        vertical-align: middle;\n",
       "    }\n",
       "\n",
       "    .dataframe tbody tr th {\n",
       "        vertical-align: top;\n",
       "    }\n",
       "\n",
       "    .dataframe thead th {\n",
       "        text-align: right;\n",
       "    }\n",
       "</style>\n",
       "<table border=\"1\" class=\"dataframe\">\n",
       "  <thead>\n",
       "    <tr style=\"text-align: right;\">\n",
       "      <th></th>\n",
       "      <th>id</th>\n",
       "      <th>popularity</th>\n",
       "      <th>budget</th>\n",
       "      <th>revenue</th>\n",
       "      <th>runtime</th>\n",
       "      <th>vote_count</th>\n",
       "      <th>vote_average</th>\n",
       "      <th>release_year</th>\n",
       "      <th>budget_adj</th>\n",
       "      <th>revenue_adj</th>\n",
       "    </tr>\n",
       "  </thead>\n",
       "  <tbody>\n",
       "    <tr>\n",
       "      <th>count</th>\n",
       "      <td>10866.000000</td>\n",
       "      <td>10866.000000</td>\n",
       "      <td>1.086600e+04</td>\n",
       "      <td>1.086600e+04</td>\n",
       "      <td>10866.000000</td>\n",
       "      <td>10866.000000</td>\n",
       "      <td>10866.000000</td>\n",
       "      <td>10866.000000</td>\n",
       "      <td>1.086600e+04</td>\n",
       "      <td>1.086600e+04</td>\n",
       "    </tr>\n",
       "    <tr>\n",
       "      <th>mean</th>\n",
       "      <td>66064.177434</td>\n",
       "      <td>0.646441</td>\n",
       "      <td>1.462570e+07</td>\n",
       "      <td>3.982332e+07</td>\n",
       "      <td>102.070863</td>\n",
       "      <td>217.389748</td>\n",
       "      <td>5.974922</td>\n",
       "      <td>2001.322658</td>\n",
       "      <td>1.755104e+07</td>\n",
       "      <td>5.136436e+07</td>\n",
       "    </tr>\n",
       "    <tr>\n",
       "      <th>std</th>\n",
       "      <td>92130.136561</td>\n",
       "      <td>1.000185</td>\n",
       "      <td>3.091321e+07</td>\n",
       "      <td>1.170035e+08</td>\n",
       "      <td>31.381405</td>\n",
       "      <td>575.619058</td>\n",
       "      <td>0.935142</td>\n",
       "      <td>12.812941</td>\n",
       "      <td>3.430616e+07</td>\n",
       "      <td>1.446325e+08</td>\n",
       "    </tr>\n",
       "    <tr>\n",
       "      <th>min</th>\n",
       "      <td>5.000000</td>\n",
       "      <td>0.000065</td>\n",
       "      <td>0.000000e+00</td>\n",
       "      <td>0.000000e+00</td>\n",
       "      <td>0.000000</td>\n",
       "      <td>10.000000</td>\n",
       "      <td>1.500000</td>\n",
       "      <td>1960.000000</td>\n",
       "      <td>0.000000e+00</td>\n",
       "      <td>0.000000e+00</td>\n",
       "    </tr>\n",
       "    <tr>\n",
       "      <th>25%</th>\n",
       "      <td>10596.250000</td>\n",
       "      <td>0.207583</td>\n",
       "      <td>0.000000e+00</td>\n",
       "      <td>0.000000e+00</td>\n",
       "      <td>90.000000</td>\n",
       "      <td>17.000000</td>\n",
       "      <td>5.400000</td>\n",
       "      <td>1995.000000</td>\n",
       "      <td>0.000000e+00</td>\n",
       "      <td>0.000000e+00</td>\n",
       "    </tr>\n",
       "    <tr>\n",
       "      <th>50%</th>\n",
       "      <td>20669.000000</td>\n",
       "      <td>0.383856</td>\n",
       "      <td>0.000000e+00</td>\n",
       "      <td>0.000000e+00</td>\n",
       "      <td>99.000000</td>\n",
       "      <td>38.000000</td>\n",
       "      <td>6.000000</td>\n",
       "      <td>2006.000000</td>\n",
       "      <td>0.000000e+00</td>\n",
       "      <td>0.000000e+00</td>\n",
       "    </tr>\n",
       "    <tr>\n",
       "      <th>75%</th>\n",
       "      <td>75610.000000</td>\n",
       "      <td>0.713817</td>\n",
       "      <td>1.500000e+07</td>\n",
       "      <td>2.400000e+07</td>\n",
       "      <td>111.000000</td>\n",
       "      <td>145.750000</td>\n",
       "      <td>6.600000</td>\n",
       "      <td>2011.000000</td>\n",
       "      <td>2.085325e+07</td>\n",
       "      <td>3.369710e+07</td>\n",
       "    </tr>\n",
       "    <tr>\n",
       "      <th>max</th>\n",
       "      <td>417859.000000</td>\n",
       "      <td>32.985763</td>\n",
       "      <td>4.250000e+08</td>\n",
       "      <td>2.781506e+09</td>\n",
       "      <td>900.000000</td>\n",
       "      <td>9767.000000</td>\n",
       "      <td>9.200000</td>\n",
       "      <td>2015.000000</td>\n",
       "      <td>4.250000e+08</td>\n",
       "      <td>2.827124e+09</td>\n",
       "    </tr>\n",
       "  </tbody>\n",
       "</table>\n",
       "</div>"
      ],
      "text/plain": [
       "                  id    popularity        budget       revenue       runtime  \\\n",
       "count   10866.000000  10866.000000  1.086600e+04  1.086600e+04  10866.000000   \n",
       "mean    66064.177434      0.646441  1.462570e+07  3.982332e+07    102.070863   \n",
       "std     92130.136561      1.000185  3.091321e+07  1.170035e+08     31.381405   \n",
       "min         5.000000      0.000065  0.000000e+00  0.000000e+00      0.000000   \n",
       "25%     10596.250000      0.207583  0.000000e+00  0.000000e+00     90.000000   \n",
       "50%     20669.000000      0.383856  0.000000e+00  0.000000e+00     99.000000   \n",
       "75%     75610.000000      0.713817  1.500000e+07  2.400000e+07    111.000000   \n",
       "max    417859.000000     32.985763  4.250000e+08  2.781506e+09    900.000000   \n",
       "\n",
       "         vote_count  vote_average  release_year    budget_adj   revenue_adj  \n",
       "count  10866.000000  10866.000000  10866.000000  1.086600e+04  1.086600e+04  \n",
       "mean     217.389748      5.974922   2001.322658  1.755104e+07  5.136436e+07  \n",
       "std      575.619058      0.935142     12.812941  3.430616e+07  1.446325e+08  \n",
       "min       10.000000      1.500000   1960.000000  0.000000e+00  0.000000e+00  \n",
       "25%       17.000000      5.400000   1995.000000  0.000000e+00  0.000000e+00  \n",
       "50%       38.000000      6.000000   2006.000000  0.000000e+00  0.000000e+00  \n",
       "75%      145.750000      6.600000   2011.000000  2.085325e+07  3.369710e+07  \n",
       "max     9767.000000      9.200000   2015.000000  4.250000e+08  2.827124e+09  "
      ]
     },
     "execution_count": 4,
     "metadata": {},
     "output_type": "execute_result"
    }
   ],
   "source": [
    "df.describe()"
   ]
  },
  {
   "cell_type": "markdown",
   "metadata": {},
   "source": [
    "### 清理数据中的缺失项\n",
    "\n",
    "- 删除 homepage 列 - 含有太多缺失项目，且不影响之后的数据分析\n",
    "- 删除 tagline（标语）列 - 含有过多缺失项目，且不影响之后的数据分析\n",
    "- 删除 keywords（影片关键词）列 - 含有过多缺失项目，且不影响之后的数据分析\n",
    "- 抛弃 imdb 序号（imdb_id）一项缺失的行（row）\n",
    "- 抛弃演员表（cast）一项缺失的行（row）\n",
    "- 抛弃导演（director）一项缺失的行（row）\n",
    "- 抛弃简介（overview）一项缺失的行（row）\n",
    "- 抛弃类别（genres）一项缺失的行（row）\n",
    "- 抛弃发行公司（production_companies）一项缺失的行（row）"
   ]
  },
  {
   "cell_type": "code",
   "execution_count": 5,
   "metadata": {},
   "outputs": [],
   "source": [
    "# 清理缺失项\n",
    "df_edited = df.drop([\"homepage\", \"tagline\", \"keywords\"], axis=1)\n",
    "df_edited.dropna(inplace=True)"
   ]
  },
  {
   "cell_type": "markdown",
   "metadata": {},
   "source": [
    "### 清理数据中的异常值\n",
    "\n",
    "- 【清理 runtime 列带异常值的行】- 影片时长（runtime）一列的最小值存在 0 分钟，这对电影来说是不合理的（最大值 900 分钟的影片 The Story of Film: An Odyssey 确实存在，它其实是一个季度的电视剧的，60分钟一集，共15集，所以最大值合理）\n",
    "- 【清理 budget 列带异常值的行】 - 影片拍摄预算（budget）一列的 0 元异常值过多\n",
    "- 【清理 budget_adj 列带异常值的行】 - 调整后的影片拍摄预算（budget_adj）一列的 0 元异常值过多\n",
    "- 【清理 revenue 列带异常值的行】 - 票房收入（revenue）一列的 0 元异常值过多\n",
    "- 【清理 revenue_adj 列带异常值的行】 - 调整后的票房收入（revenue_adj）一列的 0 元异常值过多"
   ]
  },
  {
   "cell_type": "code",
   "execution_count": 6,
   "metadata": {},
   "outputs": [],
   "source": [
    "# 清理异常值\n",
    "def clean_outlier_rows(df, column_name, outlier_value):\n",
    "    return df.drop(index=df[df[column_name] < (outlier_value +1)].index)\n",
    "\n",
    "column_names = [\"runtime\", \"budget\", \"budget_adj\", \"revenue\", \"revenue_adj\"]\n",
    "\n",
    "for name in column_names:\n",
    "    df_edited = clean_outlier_rows(df_edited, name, 0)"
   ]
  },
  {
   "cell_type": "markdown",
   "metadata": {},
   "source": [
    "### 调整数据中的部分数据类型\n",
    "\n",
    "- 将 release_date 列的数据类型变更为 datetime"
   ]
  },
  {
   "cell_type": "code",
   "execution_count": 7,
   "metadata": {},
   "outputs": [],
   "source": [
    "# 调整数据类型\n",
    "df_edited[\"release_date\"] = pd.to_datetime(df_edited[\"release_date\"])"
   ]
  },
  {
   "cell_type": "code",
   "execution_count": 8,
   "metadata": {},
   "outputs": [
    {
     "data": {
      "text/plain": [
       "False"
      ]
     },
     "execution_count": 8,
     "metadata": {},
     "output_type": "execute_result"
    }
   ],
   "source": [
    "# 检测任何列是否有空值 - 返回 False 则没有空值，返回 True 则存在空值\n",
    "df_edited.isnull().sum().any()"
   ]
  },
  {
   "cell_type": "code",
   "execution_count": 9,
   "metadata": {},
   "outputs": [
    {
     "data": {
      "text/html": [
       "<div>\n",
       "<style scoped>\n",
       "    .dataframe tbody tr th:only-of-type {\n",
       "        vertical-align: middle;\n",
       "    }\n",
       "\n",
       "    .dataframe tbody tr th {\n",
       "        vertical-align: top;\n",
       "    }\n",
       "\n",
       "    .dataframe thead th {\n",
       "        text-align: right;\n",
       "    }\n",
       "</style>\n",
       "<table border=\"1\" class=\"dataframe\">\n",
       "  <thead>\n",
       "    <tr style=\"text-align: right;\">\n",
       "      <th></th>\n",
       "      <th>id</th>\n",
       "      <th>popularity</th>\n",
       "      <th>budget</th>\n",
       "      <th>revenue</th>\n",
       "      <th>runtime</th>\n",
       "      <th>vote_count</th>\n",
       "      <th>vote_average</th>\n",
       "      <th>release_year</th>\n",
       "      <th>budget_adj</th>\n",
       "      <th>revenue_adj</th>\n",
       "    </tr>\n",
       "  </thead>\n",
       "  <tbody>\n",
       "    <tr>\n",
       "      <th>count</th>\n",
       "      <td>3805.000000</td>\n",
       "      <td>3805.000000</td>\n",
       "      <td>3.805000e+03</td>\n",
       "      <td>3.805000e+03</td>\n",
       "      <td>3805.000000</td>\n",
       "      <td>3805.000000</td>\n",
       "      <td>3805.000000</td>\n",
       "      <td>3805.000000</td>\n",
       "      <td>3.805000e+03</td>\n",
       "      <td>3.805000e+03</td>\n",
       "    </tr>\n",
       "    <tr>\n",
       "      <th>mean</th>\n",
       "      <td>40035.878055</td>\n",
       "      <td>1.203804</td>\n",
       "      <td>3.761588e+07</td>\n",
       "      <td>1.089736e+08</td>\n",
       "      <td>109.351643</td>\n",
       "      <td>534.173456</td>\n",
       "      <td>6.170486</td>\n",
       "      <td>2001.228909</td>\n",
       "      <td>4.472765e+07</td>\n",
       "      <td>1.387162e+08</td>\n",
       "    </tr>\n",
       "    <tr>\n",
       "      <th>std</th>\n",
       "      <td>67584.996392</td>\n",
       "      <td>1.480560</td>\n",
       "      <td>4.231758e+07</td>\n",
       "      <td>1.772974e+08</td>\n",
       "      <td>19.845191</td>\n",
       "      <td>883.750199</td>\n",
       "      <td>0.792538</td>\n",
       "      <td>11.329400</td>\n",
       "      <td>4.488175e+07</td>\n",
       "      <td>2.169971e+08</td>\n",
       "    </tr>\n",
       "    <tr>\n",
       "      <th>min</th>\n",
       "      <td>5.000000</td>\n",
       "      <td>0.010335</td>\n",
       "      <td>1.000000e+00</td>\n",
       "      <td>2.000000e+00</td>\n",
       "      <td>15.000000</td>\n",
       "      <td>10.000000</td>\n",
       "      <td>2.200000</td>\n",
       "      <td>1960.000000</td>\n",
       "      <td>1.309053e+00</td>\n",
       "      <td>2.370705e+00</td>\n",
       "    </tr>\n",
       "    <tr>\n",
       "      <th>25%</th>\n",
       "      <td>5925.000000</td>\n",
       "      <td>0.470651</td>\n",
       "      <td>1.000000e+07</td>\n",
       "      <td>1.433379e+07</td>\n",
       "      <td>96.000000</td>\n",
       "      <td>74.000000</td>\n",
       "      <td>5.700000</td>\n",
       "      <td>1995.000000</td>\n",
       "      <td>1.354637e+07</td>\n",
       "      <td>1.925371e+07</td>\n",
       "    </tr>\n",
       "    <tr>\n",
       "      <th>50%</th>\n",
       "      <td>11253.000000</td>\n",
       "      <td>0.810805</td>\n",
       "      <td>2.500000e+07</td>\n",
       "      <td>4.621664e+07</td>\n",
       "      <td>106.000000</td>\n",
       "      <td>209.000000</td>\n",
       "      <td>6.200000</td>\n",
       "      <td>2004.000000</td>\n",
       "      <td>3.038360e+07</td>\n",
       "      <td>6.284688e+07</td>\n",
       "    </tr>\n",
       "    <tr>\n",
       "      <th>75%</th>\n",
       "      <td>38579.000000</td>\n",
       "      <td>1.387163</td>\n",
       "      <td>5.000000e+07</td>\n",
       "      <td>1.260695e+08</td>\n",
       "      <td>119.000000</td>\n",
       "      <td>584.000000</td>\n",
       "      <td>6.700000</td>\n",
       "      <td>2010.000000</td>\n",
       "      <td>6.084153e+07</td>\n",
       "      <td>1.658054e+08</td>\n",
       "    </tr>\n",
       "    <tr>\n",
       "      <th>max</th>\n",
       "      <td>417859.000000</td>\n",
       "      <td>32.985763</td>\n",
       "      <td>4.250000e+08</td>\n",
       "      <td>2.781506e+09</td>\n",
       "      <td>338.000000</td>\n",
       "      <td>9767.000000</td>\n",
       "      <td>8.400000</td>\n",
       "      <td>2015.000000</td>\n",
       "      <td>4.250000e+08</td>\n",
       "      <td>2.827124e+09</td>\n",
       "    </tr>\n",
       "  </tbody>\n",
       "</table>\n",
       "</div>"
      ],
      "text/plain": [
       "                  id   popularity        budget       revenue      runtime  \\\n",
       "count    3805.000000  3805.000000  3.805000e+03  3.805000e+03  3805.000000   \n",
       "mean    40035.878055     1.203804  3.761588e+07  1.089736e+08   109.351643   \n",
       "std     67584.996392     1.480560  4.231758e+07  1.772974e+08    19.845191   \n",
       "min         5.000000     0.010335  1.000000e+00  2.000000e+00    15.000000   \n",
       "25%      5925.000000     0.470651  1.000000e+07  1.433379e+07    96.000000   \n",
       "50%     11253.000000     0.810805  2.500000e+07  4.621664e+07   106.000000   \n",
       "75%     38579.000000     1.387163  5.000000e+07  1.260695e+08   119.000000   \n",
       "max    417859.000000    32.985763  4.250000e+08  2.781506e+09   338.000000   \n",
       "\n",
       "        vote_count  vote_average  release_year    budget_adj   revenue_adj  \n",
       "count  3805.000000   3805.000000   3805.000000  3.805000e+03  3.805000e+03  \n",
       "mean    534.173456      6.170486   2001.228909  4.472765e+07  1.387162e+08  \n",
       "std     883.750199      0.792538     11.329400  4.488175e+07  2.169971e+08  \n",
       "min      10.000000      2.200000   1960.000000  1.309053e+00  2.370705e+00  \n",
       "25%      74.000000      5.700000   1995.000000  1.354637e+07  1.925371e+07  \n",
       "50%     209.000000      6.200000   2004.000000  3.038360e+07  6.284688e+07  \n",
       "75%     584.000000      6.700000   2010.000000  6.084153e+07  1.658054e+08  \n",
       "max    9767.000000      8.400000   2015.000000  4.250000e+08  2.827124e+09  "
      ]
     },
     "execution_count": 9,
     "metadata": {},
     "output_type": "execute_result"
    }
   ],
   "source": [
    "df_edited.describe()"
   ]
  },
  {
   "cell_type": "markdown",
   "metadata": {},
   "source": [
    "<a id='eda'></a>\n",
    "## 探索性数据分析\n"
   ]
  },
  {
   "cell_type": "markdown",
   "metadata": {},
   "source": [
    "<a id='pop_of_each_year'></a>\n",
    "> ### 总体上看，最受欢迎的电影类别是哪些？"
   ]
  },
  {
   "cell_type": "code",
   "execution_count": 10,
   "metadata": {},
   "outputs": [],
   "source": [
    "# 定义一个函数，用于将带有 \"|\" 的字符串分割生成 list，并将这些 lists 合成一个 Series\n",
    "def combine_lists(series_of_lists):\n",
    "    return series_of_lists.apply(lambda x: pd.Series(x.split(\"|\"))).stack().reset_index(drop=True)"
   ]
  },
  {
   "cell_type": "code",
   "execution_count": 11,
   "metadata": {},
   "outputs": [],
   "source": [
    "# 获取欢迎度（popularity）排名前 100 的电影\n",
    "top_pop_index = df_edited[\"popularity\"].nlargest(100).index\n",
    "top_100_pop_df = df_edited.loc[top_pop_index]\n",
    "\n",
    "# 收集欢迎度（popularity）排名前 100 的电影类型（Genres）\n",
    "genres_collected = combine_lists(top_100_pop_df[\"genres\"])"
   ]
  },
  {
   "cell_type": "code",
   "execution_count": 12,
   "metadata": {},
   "outputs": [
    {
     "data": {
      "image/png": "[encoded data removed]",
      "text/plain": [
       "<Figure size 576x576 with 1 Axes>"
      ]
     },
     "metadata": {},
     "output_type": "display_data"
    }
   ],
   "source": [
    "# 绘图 - 显示欢迎度（popularity）排名前 100 的电影在各个类型（Genres）的数量分布\n",
    "genre_movie_counts = genres_collected.value_counts()\n",
    "labels = list(genre_movie_counts.index)\n",
    "genre_movie_counts.plot(kind=\"pie\", title=\"Top Popular Movie Genres\", figsize=(8, 8));"
   ]
  },
  {
   "cell_type": "markdown",
   "metadata": {},
   "source": [
    "根据上面的柱状图，很容易看出，这个数据集合里所记录的所有电影里，最受欢迎的电影类别是 Action，Adventure，Science Fiction，Thriller，Fantasy，Drama，Family，Crime 和 Comedy"
   ]
  },
  {
   "cell_type": "markdown",
   "metadata": {},
   "source": [
    "<a id='characteristics_of_high_revenue_movies'></a>\n",
    ">### 票房（Adjusted Revenue）高的电影有哪些特点？"
   ]
  },
  {
   "cell_type": "code",
   "execution_count": 13,
   "metadata": {},
   "outputs": [],
   "source": [
    "# 获取票房（revenue_adj）排名前 100 名的电影\n",
    "top_reve_index = df_edited[\"revenue_adj\"].nlargest(100).index\n",
    "top_100_reve_df = df_edited.loc[top_reve_index]"
   ]
  },
  {
   "cell_type": "code",
   "execution_count": 14,
   "metadata": {},
   "outputs": [
    {
     "data": {
      "image/png": "[encoded data removed]",
      "text/plain": [
       "<Figure size 576x576 with 1 Axes>"
      ]
     },
     "metadata": {},
     "output_type": "display_data"
    }
   ],
   "source": [
    "# 绘图 - 显示排名前 100 的高票房（High Adjusted Revenue）电影中，各个导演（Director）所拍的数量\n",
    "director_movie_count = top_100_reve_df[\"director\"].value_counts()\n",
    "movie_count = director_movie_count.nlargest(15)\n",
    "labels = list(movie_count.index)\n",
    "movie_count.plot(kind=\"bar\", title=\"Directors Who Have Made High Revenue Movies\", figsize=(8, 8));\n",
    "plt.xlabel('Directors')\n",
    "plt.ylabel('Movies Count');"
   ]
  },
  {
   "cell_type": "markdown",
   "metadata": {},
   "source": [
    ">特点一：排名前 100 的高票房电影里经常能看到 Steven Spielberg 和 Peter Jackson 这两位导演的身影（他们贡献了超过 10% 的高票房电影）"
   ]
  },
  {
   "cell_type": "code",
   "execution_count": 15,
   "metadata": {},
   "outputs": [
    {
     "data": {
      "image/png": "[encoded data removed]",
      "text/plain": [
       "<Figure size 1080x1080 with 1 Axes>"
      ]
     },
     "metadata": {},
     "output_type": "display_data"
    }
   ],
   "source": [
    "# 绘图 - 显示排名前 100 的高票房（High Adjusted Revenue）电影在各个年份的数量\n",
    "top_100_reve_df[\"release_year\"].value_counts().sort_index().plot(kind=\"bar\", title=\"High Revenue Movies Distribution\", figsize=(15, 15), color='grey');\n",
    "plt.xlabel('Years')\n",
    "plt.ylabel('Movies Count');"
   ]
  },
  {
   "cell_type": "markdown",
   "metadata": {},
   "source": [
    ">特点二：排名前 100 的高票房电影集中在 2002 年到 2015 年，其中 2009 年和 2015 年这两年的高票房电影数量最多"
   ]
  },
  {
   "cell_type": "code",
   "execution_count": 16,
   "metadata": {},
   "outputs": [],
   "source": [
    "# 收集排名前 100 的高票房（High Adjusted Revenue）电影的主演（Cast）名单\n",
    "cast_collected = combine_lists(top_100_reve_df[\"cast\"])\n",
    "cast_movie_count = cast_collected.value_counts()"
   ]
  },
  {
   "cell_type": "code",
   "execution_count": 17,
   "metadata": {},
   "outputs": [
    {
     "data": {
      "image/png": "[encoded data removed]",
      "text/plain": [
       "<Figure size 576x576 with 1 Axes>"
      ]
     },
     "metadata": {},
     "output_type": "display_data"
    }
   ],
   "source": [
    "# 绘图 - 显示欢迎度（popularity）排名前 100 的电影在各个类型（Genres）的数量分布\n",
    "movie_count = cast_movie_count.nlargest(15)\n",
    "labels = list(movie_count.index)\n",
    "movie_count.plot(kind=\"bar\", title=\"Actors Who Have Performed High Revenue Movies\", figsize=(8, 8));\n",
    "plt.xlabel('Actors')\n",
    "plt.ylabel('Movies Count');"
   ]
  },
  {
   "cell_type": "markdown",
   "metadata": {},
   "source": [
    ">特点三：排名前 100 的高票房电影里，经常能看到 Daniel Radcliffe，Rupert Grint，Emma Watson，Harrison Ford，Ian McKellen，Orlando Bloom，Ralph Fiennes，Johnny Depp，Mark Hamill 和 Liv Tyler 这些演员的身影。不过仔细观察可以发现某些演员是因为一个系列拍了 8 部才因此霸榜，考虑到这些电影系列的故事比较火，所以当前无法判断演员本身对高票房有多大的贡献。"
   ]
  },
  {
   "cell_type": "code",
   "execution_count": 18,
   "metadata": {},
   "outputs": [],
   "source": [
    "# 收集排名前 100 的高票房（High Adjusted Revenue）电影的制片公司（Production Companies）名单\n",
    "companies_collected = combine_lists(top_100_reve_df[\"production_companies\"])\n",
    "companies_movie_count = companies_collected.value_counts()"
   ]
  },
  {
   "cell_type": "code",
   "execution_count": 19,
   "metadata": {},
   "outputs": [
    {
     "data": {
      "image/png": "[encoded data removed]",
      "text/plain": [
       "<Figure size 576x576 with 1 Axes>"
      ]
     },
     "metadata": {},
     "output_type": "display_data"
    }
   ],
   "source": [
    "# 绘图 - 显示欢迎度（popularity）排名前 100 的电影在各个类型（Genres）的数量分布\n",
    "movie_count = companies_movie_count.nlargest(15)\n",
    "labels = list(movie_count.index)\n",
    "movie_count.plot(kind=\"bar\", title=\"Companies Who Have Produced High Revenue Movies\", figsize=(8, 8));\n",
    "plt.xlabel('Companies')\n",
    "plt.ylabel('Movies Count');"
   ]
  },
  {
   "cell_type": "markdown",
   "metadata": {},
   "source": [
    ">特点四：排名前 100 的高票房电影里，经常能看到 Warner Bros.，Walt Disney Pictures，Paramount Pictures，Lucasfilm，Universal Pictures 和 Heyday Films 这些公司的身影。"
   ]
  },
  {
   "cell_type": "markdown",
   "metadata": {},
   "source": [
    "<a id='conclusions'></a>\n",
    "## 结论"
   ]
  },
  {
   "cell_type": "markdown",
   "metadata": {},
   "source": [
    "### 结论一：\n",
    "> 总体上看，最受欢迎的电影类别是 Action，Adventure，Science Fiction，Thriller，Fantasy，Drama，Family，Crime 和 Comedy 。当然，这只是初步的统计，更详细的情况还需要进一步分析。比如今年观众喜欢的类型也许会变化，可能需要进一步分析每个年份受欢迎的类型分别是什么，尤其是最近的几年，才能知道当前，甚至未来，什么类型的电影最受欢迎。"
   ]
  },
  {
   "cell_type": "markdown",
   "metadata": {},
   "source": [
    "### 结论二：\n",
    ">   票房高的电影有哪些特点如下：\n",
    "- 特点一：排名前 100 的高票房电影里经常能看到 Steven Spielberg 和 Peter Jackson 这两位导演的身影（他们贡献了超过 10% 的高票房电影）；\n",
    "- 特点二：排名前 100 的高票房电影集中在 2002 年到 2015 年，其中 2009 年和 2015 年这两年的高票房电影数量最多；\n",
    "- 特点三：排名前 100 的高票房电影里，经常能看到 Daniel Radcliffe，Rupert Grint，Emma Watson，Harrison Ford，Ian McKellen，Orlando Bloom，Ralph Fiennes，Johnny Depp，Mark Hamill 和 Liv Tyler 这些演员的身影。不过仔细观察可以发现某些演员是因为一个系列拍了 8 部才因此霸榜，考虑到这些电影系列的故事比较火，所以需要进一步分析才能判断演员本身，和系列故事的剧本等因素，分别对高票房有多大的贡献；\n",
    "- 特点四：排名前 100 的高票房电影里，经常能看到 Warner Bros.，Walt Disney Pictures，Paramount Pictures，Lucasfilm，Universal Pictures 和 Heyday Films 这些公司的身影；"
   ]
  },
  {
   "cell_type": "markdown",
   "metadata": {},
   "source": [
    "## 分析总结：\n",
    "> 1. 以上的数据探索了特征之间的相互关系，并不涉及因果；\n",
    "2. 以上的数据在分析时进行过异常值，缺失值的清理，导致用以探索分析的整个数据量缩小到了原始数据的 35% （1万多条数据变为3千8百多条），由这个 35% 的子集得出的观点，需要进一步的分析才能更加令人信服；\n",
    "3. 处理异常值和缺失值之前的数据，和处理之后的数据，两者所得到的结论有微小的差异（体现在排名先后），但就本次探索的两个问题来说，总体上差异不大；"
   ]
  },
  {
   "cell_type": "markdown",
   "metadata": {},
   "source": [
    "参考资料：\n",
    "1. [align jupyter notebook tables to the left](https://stackoverflow.com/questions/45354207/align-jupyter-notebook-tables-to-the-left)\n",
    "2. [Pandas Series of lists to one series](https://stackoverflow.com/questions/30885005/pandas-series-of-lists-to-one-series)\n",
    "3. [pandas.DataFrame.stack](https://pandas.pydata.org/pandas-docs/stable/generated/pandas.DataFrame.stack.html)\n",
    "4. [pandas.Series.sort_index](http://pandas.pydata.org/pandas-docs/stable/generated/pandas.Series.sort_index.html)"
   ]
  },
  {
   "cell_type": "code",
   "execution_count": 20,
   "metadata": {},
   "outputs": [
    {
     "data": {
      "text/plain": [
       "0"
      ]
     },
     "execution_count": 20,
     "metadata": {},
     "output_type": "execute_result"
    }
   ],
   "source": [
    "from subprocess import call\n",
    "call(['python', '-m', 'nbconvert', 'Investigate_a_Dataset_twentynight_p3.ipynb'])"
   ]
  },
  {
   "cell_type": "code",
   "execution_count": null,
   "metadata": {},
   "outputs": [],
   "source": []
  }
 ],
 "metadata": {
  "kernelspec": {
   "display_name": "Python 3",
   "language": "python",
   "name": "python3"
  },
  "language_info": {
   "codemirror_mode": {
    "name": "ipython",
    "version": 3
   },
   "file_extension": ".py",
   "mimetype": "text/x-python",
   "name": "python",
   "nbconvert_exporter": "python",
   "pygments_lexer": "ipython3",
   "version": "3.6.5"
  }
 },
 "nbformat": 4,
 "nbformat_minor": 2
}
