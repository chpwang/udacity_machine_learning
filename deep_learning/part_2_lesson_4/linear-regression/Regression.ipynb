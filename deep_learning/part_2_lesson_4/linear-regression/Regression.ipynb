{
 "cells": [
  {
   "cell_type": "markdown",
   "metadata": {},
   "source": [
    "# Lab: Predicting Life Expectancy from BMI in Countries using Linear Regression\n",
    "\n",
    "\n",
    "In this lab, you'll be working with data on the average life expectancy at birth and the average BMI for males across the world. The data comes from [Gapminder](https://www.gapminder.org/).\n",
    "\n",
    ">BMI (Body Mass Index) is a measure of body fat based on height and weight that applies to adult men and women.\n",
    "\n",
    "The data file can be found in the \"bmi_and_life_expectancy.csv\" file. It includes three columns, containing the following data:\n",
    "* **Country** – The country the person was born in.  \n",
    "* **Life expectancy** – The average life expectancy at birth for a person in that country.\n",
    "* **BMI** – The mean BMI of males in that country. \n",
    "\n",
    "### You'll need to complete each of the following steps:\n",
    "\n",
    "**1. Load the data**\n",
    "\n",
    "**2. Build a linear regression model**\n",
    "\n",
    "**3. Predict using the model**"
   ]
  },
  {
   "cell_type": "markdown",
   "metadata": {},
   "source": [
    "# 1. Load and plot the data\n",
    "* The data is in the file called \"bmi_and_life_expectancy.csv\".\n",
    "* Use pandas [`read_csv`](http://pandas.pydata.org/pandas-docs/stable/generated/pandas.read_csv.html) to load the data into a dataframe.\n",
    "* Assign the dataframe to the variable `bmi_life_data`.\n"
   ]
  },
  {
   "cell_type": "code",
   "execution_count": 1,
   "metadata": {},
   "outputs": [],
   "source": [
    "import numpy as np\n",
    "import pandas as pd"
   ]
  },
  {
   "cell_type": "code",
   "execution_count": 14,
   "metadata": {},
   "outputs": [
    {
     "data": {
      "text/html": [
       "<div>\n",
       "<style>\n",
       "    .dataframe thead tr:only-child th {\n",
       "        text-align: right;\n",
       "    }\n",
       "\n",
       "    .dataframe thead th {\n",
       "        text-align: left;\n",
       "    }\n",
       "\n",
       "    .dataframe tbody tr th {\n",
       "        vertical-align: top;\n",
       "    }\n",
       "</style>\n",
       "<table border=\"1\" class=\"dataframe\">\n",
       "  <thead>\n",
       "    <tr style=\"text-align: right;\">\n",
       "      <th></th>\n",
       "      <th>Life expectancy</th>\n",
       "      <th>BMI</th>\n",
       "    </tr>\n",
       "  </thead>\n",
       "  <tbody>\n",
       "    <tr>\n",
       "      <th>count</th>\n",
       "      <td>163.000000</td>\n",
       "      <td>163.000000</td>\n",
       "    </tr>\n",
       "    <tr>\n",
       "      <th>mean</th>\n",
       "      <td>69.666933</td>\n",
       "      <td>24.792378</td>\n",
       "    </tr>\n",
       "    <tr>\n",
       "      <th>std</th>\n",
       "      <td>8.981933</td>\n",
       "      <td>2.427900</td>\n",
       "    </tr>\n",
       "    <tr>\n",
       "      <th>min</th>\n",
       "      <td>44.500000</td>\n",
       "      <td>19.866920</td>\n",
       "    </tr>\n",
       "    <tr>\n",
       "      <th>25%</th>\n",
       "      <td>63.450000</td>\n",
       "      <td>22.527940</td>\n",
       "    </tr>\n",
       "    <tr>\n",
       "      <th>50%</th>\n",
       "      <td>71.800000</td>\n",
       "      <td>25.320540</td>\n",
       "    </tr>\n",
       "    <tr>\n",
       "      <th>75%</th>\n",
       "      <td>76.500000</td>\n",
       "      <td>26.603960</td>\n",
       "    </tr>\n",
       "    <tr>\n",
       "      <th>max</th>\n",
       "      <td>84.600000</td>\n",
       "      <td>30.995630</td>\n",
       "    </tr>\n",
       "  </tbody>\n",
       "</table>\n",
       "</div>"
      ],
      "text/plain": [
       "       Life expectancy         BMI\n",
       "count       163.000000  163.000000\n",
       "mean         69.666933   24.792378\n",
       "std           8.981933    2.427900\n",
       "min          44.500000   19.866920\n",
       "25%          63.450000   22.527940\n",
       "50%          71.800000   25.320540\n",
       "75%          76.500000   26.603960\n",
       "max          84.600000   30.995630"
      ]
     },
     "execution_count": 14,
     "metadata": {},
     "output_type": "execute_result"
    }
   ],
   "source": [
    "# Done: Load the data in Pandas\n",
    "\n",
    "bmi_life_data = pd.read_csv(\"bmi_and_life_expectancy.csv\")\n",
    "\n",
    "# Print the data\n",
    "bmi_life_data.describe()"
   ]
  },
  {
   "cell_type": "markdown",
   "metadata": {},
   "source": [
    "Some helper functions:\n",
    "- One to plot the data.\n",
    "- One to plot any line, given the slope $m$ and the y-intercept $b$."
   ]
  },
  {
   "cell_type": "code",
   "execution_count": 5,
   "metadata": {},
   "outputs": [],
   "source": [
    "import matplotlib.pyplot as plt\n",
    "\n",
    "x = np.array(bmi_life_data[[\"BMI\"]])\n",
    "y = np.array(bmi_life_data[\"Life expectancy\"])\n",
    "\n",
    "def draw_data(x, y):\n",
    "    for i in range(len(x)):\n",
    "        plt.scatter(x[i], y[i], color='blue', edgecolor='k')\n",
    "    plt.xlabel('BMI')\n",
    "    plt.ylabel('Life expectancy')\n",
    "\n",
    "def display(m, b, color='g'):\n",
    "    r = np.arange(min(x), max(x), 0.1)\n",
    "    plt.plot(r, m*r+b, color)"
   ]
  },
  {
   "cell_type": "markdown",
   "metadata": {},
   "source": [
    "Plotting the data"
   ]
  },
  {
   "cell_type": "code",
   "execution_count": 6,
   "metadata": {},
   "outputs": [
    {
     "data": {
      "image/png": "[encoded data removed]",
      "text/plain": [
       "<matplotlib.figure.Figure at 0x7fb2aed51a20>"
      ]
     },
     "metadata": {},
     "output_type": "display_data"
    }
   ],
   "source": [
    "draw_data(x, y)\n",
    "plt.show()"
   ]
  },
  {
   "cell_type": "markdown",
   "metadata": {},
   "source": [
    "# 2. Build a Linear Regression Model\n",
    "* Create a regression model and assign the weights to the array `bmi_life_model`.\n",
    "* Fit the model to the data.\n",
    "\n",
    "_Note:_"
   ]
  },
  {
   "cell_type": "code",
   "execution_count": 50,
   "metadata": {},
   "outputs": [
    {
     "name": "stdout",
     "output_type": "stream",
     "text": [
      "Epoch: 0\n",
      "Train loss:  6.83949113783\n",
      "=========\n",
      "Epoch: 200\n",
      "Train loss:  6.4463241109\n",
      "=========\n",
      "Epoch: 400\n",
      "Train loss:  6.44080617208\n",
      "=========\n",
      "Epoch: 600\n",
      "Train loss:  6.43672622925\n",
      "=========\n",
      "Epoch: 800\n",
      "Train loss:  6.43370953514\n",
      "=========\n",
      "Iteration Finished!\n",
      "m:  [ 2.24041484] b:  [ 5.51640025]\n"
     ]
    }
   ],
   "source": [
    "epochs = 1000\n",
    "learning_rate = 0.001\n",
    "\n",
    "# TODO: Finish the code for this function\n",
    "def linear_regression(x, y):\n",
    "    # Initialize m and b\n",
    "    m=1\n",
    "    b=0\n",
    "    # TODO: Use the square trick to update the weights\n",
    "    # and run it for a number of epochs\n",
    "    last_loss = None\n",
    "    for e in range(epochs):\n",
    "        loss = []\n",
    "        for xi, yi in zip(x, y):\n",
    "            # 调整权重（weights）和偏差（bias）之前统计误差\n",
    "            y_hat = m*xi + b\n",
    "            error = abs((yi-y_hat))\n",
    "            loss.append(error)\n",
    "            \n",
    "            y_hat = m*xi + b\n",
    "            m = m + learning_rate*xi*(yi-y_hat)\n",
    "            b = b + learning_rate*(yi-y_hat)\n",
    "            \n",
    "        # Printing out the mean error on the training set\n",
    "        if e % (epochs / 5) == 0:\n",
    "            loss = np.mean(np.array(loss))\n",
    "            print(\"Epoch:\", e)\n",
    "            if last_loss and last_loss < loss:\n",
    "                print(\"Train loss: \", loss, \"  WARNING - Loss Increasing\")\n",
    "            else:\n",
    "                print(\"Train loss: \", loss)\n",
    "            last_loss = loss\n",
    "            loss = []\n",
    "            print(\"=========\")\n",
    "            \n",
    "    print(\"Iteration Finished!\")\n",
    "    print(\"m: \", m, \"b: \", b)\n",
    "    return(m, b)\n",
    "\n",
    "m, b = linear_regression(x, y)"
   ]
  },
  {
   "cell_type": "code",
   "execution_count": 51,
   "metadata": {},
   "outputs": [
    {
     "data": {
      "image/png": "[encoded data removed]",
      "text/plain": [
       "<matplotlib.figure.Figure at 0x7fb2aa10fac8>"
      ]
     },
     "metadata": {},
     "output_type": "display_data"
    }
   ],
   "source": [
    "draw_data(x, y)\n",
    "display(m[0], b[0])\n",
    "plt.show()"
   ]
  },
  {
   "cell_type": "markdown",
   "metadata": {},
   "source": [
    "# 3. Predict using the Model\n",
    "* Predict using a BMI of 21.07931 and assign it to the variable `laos_life_exp`."
   ]
  },
  {
   "cell_type": "code",
   "execution_count": 52,
   "metadata": {},
   "outputs": [],
   "source": [
    "# Done: Write the prediction function\n",
    "def predict(m, b, bmi):\n",
    "    return bmi*m + b"
   ]
  },
  {
   "cell_type": "code",
   "execution_count": 54,
   "metadata": {},
   "outputs": [
    {
     "data": {
      "text/plain": [
       "52.742799255351606"
      ]
     },
     "execution_count": 54,
     "metadata": {},
     "output_type": "execute_result"
    }
   ],
   "source": [
    "laos_life_exp = predict(m[0], b[0], 21.07931)\n",
    "laos_life_exp"
   ]
  },
  {
   "cell_type": "code",
   "execution_count": null,
   "metadata": {},
   "outputs": [],
   "source": []
  }
 ],
 "metadata": {
  "kernelspec": {
   "display_name": "Python 3",
   "language": "python",
   "name": "python3"
  },
  "language_info": {
   "codemirror_mode": {
    "name": "ipython",
    "version": 3
   },
   "file_extension": ".py",
   "mimetype": "text/x-python",
   "name": "python",
   "nbconvert_exporter": "python",
   "pygments_lexer": "ipython3",
   "version": "3.6.3"
  }
 },
 "nbformat": 4,
 "nbformat_minor": 2
}
